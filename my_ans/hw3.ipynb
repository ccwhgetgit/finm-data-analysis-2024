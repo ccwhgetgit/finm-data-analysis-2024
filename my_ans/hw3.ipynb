{
 "cells": [
  {
   "cell_type": "code",
   "execution_count": 75,
   "id": "31b433b2-bbca-403e-88f3-9f00e2469123",
   "metadata": {},
   "outputs": [],
   "source": [
    "import pandas as pd \n",
    "import statsmodels.api as sm\n",
    "\n",
    "file_name = './../data/spx_weekly_returns_single_names.xlsx'\n",
    "sp500 = pd.read_excel(file_name, sheet_name=2, index_col=0)\n",
    "gold = pd.read_excel(file_name, sheet_name=3, index_col=0)[['GLD']]\n"
   ]
  },
  {
   "cell_type": "code",
   "execution_count": 77,
   "id": "52fafd44-ea69-423e-8c3a-492f31b77dab",
   "metadata": {},
   "outputs": [
    {
     "data": {
      "text/plain": [
       "(GLD    0\n",
       " dtype: int64,\n",
       " 0)"
      ]
     },
     "execution_count": 77,
     "metadata": {},
     "output_type": "execute_result"
    }
   ],
   "source": [
    "x = sm.add_constant(sp500)\n",
    "y = gold\n",
    "\n",
    "y.isna().sum(), x.isna().sum().sum()"
   ]
  },
  {
   "cell_type": "code",
   "execution_count": 69,
   "id": "431802cb-098e-431f-b8ed-80727cf2e7ca",
   "metadata": {},
   "outputs": [
    {
     "data": {
      "text/plain": [
       "(Index(['GLD'], dtype='object'),)"
      ]
     },
     "execution_count": 69,
     "metadata": {},
     "output_type": "execute_result"
    }
   ],
   "source": [
    "y.columns, "
   ]
  },
  {
   "cell_type": "code",
   "execution_count": 87,
   "id": "dd57bda5-9757-4382-8d16-2b01dfd9dbaa",
   "metadata": {},
   "outputs": [
    {
     "data": {
      "text/html": [
       "<div>\n",
       "<style scoped>\n",
       "    .dataframe tbody tr th:only-of-type {\n",
       "        vertical-align: middle;\n",
       "    }\n",
       "\n",
       "    .dataframe tbody tr th {\n",
       "        vertical-align: top;\n",
       "    }\n",
       "\n",
       "    .dataframe thead th {\n",
       "        text-align: right;\n",
       "    }\n",
       "</style>\n",
       "<table border=\"1\" class=\"dataframe\">\n",
       "  <thead>\n",
       "    <tr style=\"text-align: right;\">\n",
       "      <th></th>\n",
       "      <th>Betas</th>\n",
       "    </tr>\n",
       "  </thead>\n",
       "  <tbody>\n",
       "    <tr>\n",
       "      <th>const</th>\n",
       "      <td>0.002295</td>\n",
       "    </tr>\n",
       "    <tr>\n",
       "      <th>A</th>\n",
       "      <td>-0.000627</td>\n",
       "    </tr>\n",
       "    <tr>\n",
       "      <th>AAPL</th>\n",
       "      <td>-0.445907</td>\n",
       "    </tr>\n",
       "    <tr>\n",
       "      <th>ABT</th>\n",
       "      <td>-0.162451</td>\n",
       "    </tr>\n",
       "    <tr>\n",
       "      <th>ACGL</th>\n",
       "      <td>-0.120744</td>\n",
       "    </tr>\n",
       "    <tr>\n",
       "      <th>...</th>\n",
       "      <td>...</td>\n",
       "    </tr>\n",
       "    <tr>\n",
       "      <th>XOM</th>\n",
       "      <td>-0.190376</td>\n",
       "    </tr>\n",
       "    <tr>\n",
       "      <th>XYL</th>\n",
       "      <td>0.102983</td>\n",
       "    </tr>\n",
       "    <tr>\n",
       "      <th>YUM</th>\n",
       "      <td>0.129469</td>\n",
       "    </tr>\n",
       "    <tr>\n",
       "      <th>ZBH</th>\n",
       "      <td>0.211157</td>\n",
       "    </tr>\n",
       "    <tr>\n",
       "      <th>ZBRA</th>\n",
       "      <td>-0.048229</td>\n",
       "    </tr>\n",
       "  </tbody>\n",
       "</table>\n",
       "<p>447 rows × 1 columns</p>\n",
       "</div>"
      ],
      "text/plain": [
       "          Betas\n",
       "const  0.002295\n",
       "A     -0.000627\n",
       "AAPL  -0.445907\n",
       "ABT   -0.162451\n",
       "ACGL  -0.120744\n",
       "...         ...\n",
       "XOM   -0.190376\n",
       "XYL    0.102983\n",
       "YUM    0.129469\n",
       "ZBH    0.211157\n",
       "ZBRA  -0.048229\n",
       "\n",
       "[447 rows x 1 columns]"
      ]
     },
     "execution_count": 87,
     "metadata": {},
     "output_type": "execute_result"
    }
   ],
   "source": [
    "model = sm.OLS(y, x).fit()\n",
    "coef = model.params\n",
    "coef.to_frame('Betas')"
   ]
  },
  {
   "cell_type": "code",
   "execution_count": 111,
   "id": "18913907-cab5-4017-9463-ee369623fa81",
   "metadata": {},
   "outputs": [
    {
     "ename": "AttributeError",
     "evalue": "'Lasso' object has no attribute 'coeff_'",
     "output_type": "error",
     "traceback": [
      "\u001b[0;31m---------------------------------------------------------------------------\u001b[0m",
      "\u001b[0;31mAttributeError\u001b[0m                            Traceback (most recent call last)",
      "Cell \u001b[0;32mIn[111], line 6\u001b[0m\n\u001b[1;32m      3\u001b[0m \u001b[38;5;28;01mfrom\u001b[39;00m \u001b[38;5;21;01msklearn\u001b[39;00m\u001b[38;5;21;01m.\u001b[39;00m\u001b[38;5;21;01mlinear_model\u001b[39;00m \u001b[38;5;28;01mimport\u001b[39;00m LinearRegression, Lasso, Ridge, LassoCV, RidgeCV\n\u001b[1;32m      5\u001b[0m lasso\u001b[38;5;241m=\u001b[39m Lasso(fit_intercept \u001b[38;5;241m=\u001b[39m \u001b[38;5;28;01mTrue\u001b[39;00m)\u001b[38;5;241m.\u001b[39mfit(x,y)\n\u001b[0;32m----> 6\u001b[0m lasso\u001b[38;5;241m.\u001b[39mcoeff_()\n",
      "\u001b[0;31mAttributeError\u001b[0m: 'Lasso' object has no attribute 'coeff_'"
     ]
    }
   ],
   "source": [
    "# LASSO \n",
    "\n",
    "from sklearn.linear_model import LinearRegression, Lasso, Ridge, LassoCV, RidgeCV\n",
    "\n",
    "lasso= Lasso(fit_intercept = True).fit(x,y)\n",
    "lasso.coeff_()\n"
   ]
  }
 ],
 "metadata": {
  "kernelspec": {
   "display_name": "Python 3 (ipykernel)",
   "language": "python",
   "name": "python3"
  },
  "language_info": {
   "codemirror_mode": {
    "name": "ipython",
    "version": 3
   },
   "file_extension": ".py",
   "mimetype": "text/x-python",
   "name": "python",
   "nbconvert_exporter": "python",
   "pygments_lexer": "ipython3",
   "version": "3.12.4"
  }
 },
 "nbformat": 4,
 "nbformat_minor": 5
}
